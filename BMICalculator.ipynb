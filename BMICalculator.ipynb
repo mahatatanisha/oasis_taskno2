{
 "cells": [
  {
   "cell_type": "code",
   "execution_count": 1,
   "metadata": {},
   "outputs": [],
   "source": [
    "import tkinter as tk\n",
    "from tkinter import messagebox\n",
    "import sqlite3\n",
    "import matplotlib.pyplot as plt\n",
    "from matplotlib.backends.backend_tkagg import FigureCanvasTkAgg"
   ]
  },
  {
   "cell_type": "code",
   "execution_count": 2,
   "metadata": {},
   "outputs": [],
   "source": [
    "# Database setup\n",
    "conn = sqlite3.connect('bmi_data.db')\n",
    "c = conn.cursor()\n",
    "c.execute('''\n",
    "          CREATE TABLE IF NOT EXISTS users (\n",
    "              id INTEGER PRIMARY KEY AUTOINCREMENT,\n",
    "              name TEXT,\n",
    "              weight REAL,\n",
    "              height REAL,\n",
    "              bmi REAL,\n",
    "              timestamp TIMESTAMP DEFAULT CURRENT_TIMESTAMP\n",
    "          )\n",
    "          ''')\n",
    "conn.commit()"
   ]
  },
  {
   "cell_type": "code",
   "execution_count": 3,
   "metadata": {},
   "outputs": [
    {
     "data": {
      "text/plain": [
       "<sqlite3.Connection at 0x1fe4ff494e0>"
      ]
     },
     "execution_count": 3,
     "metadata": {},
     "output_type": "execute_result"
    }
   ],
   "source": [
    "conn"
   ]
  },
  {
   "cell_type": "code",
   "execution_count": 4,
   "metadata": {},
   "outputs": [],
   "source": [
    "\n",
    "class BMIApp:\n",
    "    def __init__(self, root):\n",
    "        self.root = root\n",
    "        self.root.title(\"BMI Calculator\")\n",
    "\n",
    "        self.name_label = tk.Label(root, text=\"Name:\")\n",
    "        self.name_label.grid(row=0, column=0, padx=10, pady=10)\n",
    "\n",
    "        self.name_entry = tk.Entry(root)\n",
    "        self.name_entry.grid(row=0, column=1, padx=10, pady=10)\n",
    "\n",
    "        self.weight_label = tk.Label(root, text=\"Weight (kg):\")\n",
    "        self.weight_label.grid(row=1, column=0, padx=10, pady=10)\n",
    "\n",
    "        self.weight_entry = tk.Entry(root)\n",
    "        self.weight_entry.grid(row=1, column=1, padx=10, pady=10)\n",
    "\n",
    "        self.height_label = tk.Label(root, text=\"Height (m):\")\n",
    "        self.height_label.grid(row=2, column=0, padx=10, pady=10)\n",
    "\n",
    "        self.height_entry = tk.Entry(root)\n",
    "        self.height_entry.grid(row=2, column=1, padx=10, pady=10)\n",
    "\n",
    "        self.calculate_button = tk.Button(root, text=\"Calculate BMI\", command=self.calculate_bmi)\n",
    "        self.calculate_button.grid(row=3, column=0, columnspan=2, pady=10)\n",
    "\n",
    "        self.view_history_button = tk.Button(root, text=\"View History\", command=self.view_history)\n",
    "        self.view_history_button.grid(row=4, column=0, columnspan=2, pady=10)\n",
    "\n",
    "    def calculate_bmi(self):\n",
    "        try:\n",
    "            weight = float(self.weight_entry.get())\n",
    "            height = float(self.height_entry.get())\n",
    "            bmi = round(weight / (height ** 2), 3)*100\n",
    "\n",
    "            name = self.name_entry.get()\n",
    "\n",
    "            # Save data to the database\n",
    "            c.execute('''\n",
    "                      INSERT INTO users (name, weight, height, bmi)\n",
    "                      VALUES (?, ?, ?, ?)\n",
    "                      ''', (name, weight, height, bmi))\n",
    "            conn.commit()\n",
    "\n",
    "            if bmi>24.9:\n",
    "                messagebox.showinfo(\"BMI Result\", f\"Your BMI is: {bmi} \\n which is considered Overweight.\")\n",
    "            elif bmi<18.4:\n",
    "                messagebox.showinfo(\"BMI Result\", f\"Your BMI is: {bmi} \\n which is considered Underweight.\")\n",
    "            else:\n",
    "                messagebox.showinfo(\"BMI Result\", f\"Your BMI is: {bmi} \\n which is considered Normal.\")\n",
    "\n",
    "            \n",
    "        except ValueError:\n",
    "            messagebox.showerror(\"Error\", \"Please enter valid numerical values for weight and height.\")\n",
    "\n",
    "    def view_history(self):\n",
    "        # Fetch data from the database\n",
    "        c.execute('''\n",
    "                  SELECT name, bmi, timestamp\n",
    "                  FROM users\n",
    "                  ORDER BY timestamp DESC\n",
    "                  ''')\n",
    "        data = c.fetchall()\n",
    "\n",
    "        if data:\n",
    "            names, bmis, timestamps = zip(*data)\n",
    "\n",
    "            # Plot BMI trend\n",
    "            plt.figure(figsize=(8, 4))\n",
    "            plt.plot(timestamps, bmis, marker='o')\n",
    "            plt.title('BMI Trend Over Time')\n",
    "            plt.xlabel('Timestamp')\n",
    "            plt.ylabel('BMI')\n",
    "            plt.xticks(rotation=45)\n",
    "\n",
    "            # Show the plot in the GUI\n",
    "            self.plot_window = tk.Toplevel(self.root)\n",
    "            self.plot_window.title(\"BMI Trend\")\n",
    "            self.plot_frame = tk.Frame(self.plot_window)\n",
    "            self.plot_frame.pack(side=tk.TOP, fill=tk.BOTH, expand=1)\n",
    "            self.canvas = FigureCanvasTkAgg(plt.gcf(), master=self.plot_frame)\n",
    "            self.canvas.draw()\n",
    "            self.canvas.get_tk_widget().pack(side=tk.TOP, fill=tk.BOTH, expand=1)\n",
    "        else:\n",
    "            messagebox.showinfo(\"No Data\", \"No BMI data available.\")\n",
    "\n",
    "if __name__ == \"__main__\":\n",
    "    root = tk.Tk()\n",
    "    app = BMIApp(root)\n",
    "    root.mainloop()\n",
    "\n",
    "# Close the database connection after the GUI is closed\n",
    "conn.close()\n"
   ]
  }
 ],
 "metadata": {
  "kernelspec": {
   "display_name": "Python 3",
   "language": "python",
   "name": "python3"
  },
  "language_info": {
   "codemirror_mode": {
    "name": "ipython",
    "version": 3
   },
   "file_extension": ".py",
   "mimetype": "text/x-python",
   "name": "python",
   "nbconvert_exporter": "python",
   "pygments_lexer": "ipython3",
   "version": "3.8.3"
  }
 },
 "nbformat": 4,
 "nbformat_minor": 4
}
